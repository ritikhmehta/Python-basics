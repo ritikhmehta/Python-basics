{
 "cells": [
  {
   "cell_type": "code",
   "execution_count": 1,
   "id": "4934393a-67fc-492b-a166-279483b26398",
   "metadata": {},
   "outputs": [],
   "source": [
    "a=3"
   ]
  },
  {
   "cell_type": "code",
   "execution_count": 2,
   "id": "08b1bdbb-b9fa-4f8a-9cfa-86924a7476d2",
   "metadata": {},
   "outputs": [],
   "source": [
    "b=3"
   ]
  },
  {
   "cell_type": "code",
   "execution_count": 3,
   "id": "ea39adec-282b-48a9-9cf5-59c8aa41d189",
   "metadata": {},
   "outputs": [
    {
     "name": "stdout",
     "output_type": "stream",
     "text": [
      "6\n"
     ]
    }
   ],
   "source": [
    "print(a+b)"
   ]
  },
  {
   "cell_type": "code",
   "execution_count": 4,
   "id": "af505d81-06df-4dea-ad3a-4f48cd827e36",
   "metadata": {},
   "outputs": [],
   "source": [
    "d=\"This is my first code\""
   ]
  },
  {
   "cell_type": "code",
   "execution_count": 5,
   "id": "54c694a4-dac0-4be1-8d34-d24b827ae375",
   "metadata": {},
   "outputs": [
    {
     "data": {
      "text/plain": [
       "'This is my first code'"
      ]
     },
     "execution_count": 5,
     "metadata": {},
     "output_type": "execute_result"
    }
   ],
   "source": [
    "d"
   ]
  },
  {
   "cell_type": "code",
   "execution_count": 6,
   "id": "51a24bf8-5bc5-49eb-9d2b-4e598917a0a6",
   "metadata": {},
   "outputs": [
    {
     "name": "stdout",
     "output_type": "stream",
     "text": [
      "This is my first code\n"
     ]
    }
   ],
   "source": [
    "print(d)"
   ]
  },
  {
   "cell_type": "code",
   "execution_count": 7,
   "id": "e371a897-b7fe-4a91-b56c-952de3927cd2",
   "metadata": {},
   "outputs": [
    {
     "ename": "TypeError",
     "evalue": "unsupported operand type(s) for +: 'int' and 'str'",
     "output_type": "error",
     "traceback": [
      "\u001b[0;31m---------------------------------------------------------------------------\u001b[0m",
      "\u001b[0;31mTypeError\u001b[0m                                 Traceback (most recent call last)",
      "Cell \u001b[0;32mIn[7], line 1\u001b[0m\n\u001b[0;32m----> 1\u001b[0m \u001b[38;5;28mprint\u001b[39m(\u001b[43ma\u001b[49m\u001b[38;5;241;43m+\u001b[39;49m\u001b[43md\u001b[49m)\n",
      "\u001b[0;31mTypeError\u001b[0m: unsupported operand type(s) for +: 'int' and 'str'"
     ]
    }
   ],
   "source": [
    "print(a+d)"
   ]
  },
  {
   "cell_type": "code",
   "execution_count": 8,
   "id": "6618b32d-044c-407b-8bab-c85c40c77e9e",
   "metadata": {},
   "outputs": [],
   "source": [
    "e=\"this\""
   ]
  },
  {
   "cell_type": "code",
   "execution_count": 10,
   "id": "6e07f71c-fd34-4dda-b13e-1f79543cb3ec",
   "metadata": {},
   "outputs": [
    {
     "name": "stdout",
     "output_type": "stream",
     "text": [
      "<class 'str'>\n"
     ]
    }
   ],
   "source": [
    "print(type(d+e))"
   ]
  },
  {
   "cell_type": "code",
   "execution_count": 11,
   "id": "a2a7dd59-33c1-4ffd-8fee-5d8dd990040d",
   "metadata": {},
   "outputs": [],
   "source": [
    "a=True"
   ]
  },
  {
   "cell_type": "code",
   "execution_count": 12,
   "id": "c828739e-027c-4fad-9722-4767e0440a4a",
   "metadata": {},
   "outputs": [
    {
     "data": {
      "text/plain": [
       "True"
      ]
     },
     "execution_count": 12,
     "metadata": {},
     "output_type": "execute_result"
    }
   ],
   "source": [
    "a"
   ]
  },
  {
   "cell_type": "code",
   "execution_count": 13,
   "id": "6bc06950-56d7-459c-9188-e7332707f695",
   "metadata": {},
   "outputs": [
    {
     "data": {
      "text/plain": [
       "bool"
      ]
     },
     "execution_count": 13,
     "metadata": {},
     "output_type": "execute_result"
    }
   ],
   "source": [
    "type(a)"
   ]
  },
  {
   "cell_type": "code",
   "execution_count": 14,
   "id": "9f567925-453e-40cd-8709-2426ce1fc869",
   "metadata": {},
   "outputs": [],
   "source": [
    "b=False"
   ]
  },
  {
   "cell_type": "code",
   "execution_count": 15,
   "id": "f26eb7b5-1c91-4bd7-bb28-0c291b79e34f",
   "metadata": {},
   "outputs": [
    {
     "name": "stdout",
     "output_type": "stream",
     "text": [
      "1\n"
     ]
    }
   ],
   "source": [
    "print(a+b)"
   ]
  },
  {
   "cell_type": "code",
   "execution_count": 16,
   "id": "21654e73-165d-4508-952c-c0953ec05a30",
   "metadata": {},
   "outputs": [
    {
     "name": "stdout",
     "output_type": "stream",
     "text": [
      "1\n"
     ]
    }
   ],
   "source": [
    "print(a-b)"
   ]
  },
  {
   "cell_type": "code",
   "execution_count": 17,
   "id": "d72add03-4a10-475f-a5cd-e67e36903245",
   "metadata": {},
   "outputs": [
    {
     "name": "stdout",
     "output_type": "stream",
     "text": [
      "0\n"
     ]
    }
   ],
   "source": [
    "print(a*b)"
   ]
  },
  {
   "cell_type": "code",
   "execution_count": 19,
   "id": "bdc1ec13-5595-436f-8444-b1f392d95a3f",
   "metadata": {},
   "outputs": [],
   "source": [
    "#print(a/b)\n",
    "\n",
    "#anything divide by zero gives infinity"
   ]
  },
  {
   "cell_type": "code",
   "execution_count": 21,
   "id": "6d8029b8-0b4e-4049-a492-d9b8701303cb",
   "metadata": {},
   "outputs": [],
   "source": [
    "#complex NO\n",
    "\n",
    "#In maths real no + imaginary no \n",
    "#but in programing its different python didn'y understand iota means it understand only j'''"
   ]
  },
  {
   "cell_type": "code",
   "execution_count": 22,
   "id": "88c91c7d-e884-4781-afdd-6fb88f412a92",
   "metadata": {},
   "outputs": [],
   "source": [
    "v=5+6j"
   ]
  },
  {
   "cell_type": "code",
   "execution_count": 24,
   "id": "9383b1e8-20be-484c-9d1a-a8827ebafbba",
   "metadata": {},
   "outputs": [
    {
     "data": {
      "text/plain": [
       "complex"
      ]
     },
     "execution_count": 24,
     "metadata": {},
     "output_type": "execute_result"
    }
   ],
   "source": [
    "type(v)"
   ]
  },
  {
   "cell_type": "code",
   "execution_count": 25,
   "id": "734829a1-bbb6-472a-a6a9-a328249e0962",
   "metadata": {},
   "outputs": [
    {
     "data": {
      "text/plain": [
       "5.0"
      ]
     },
     "execution_count": 25,
     "metadata": {},
     "output_type": "execute_result"
    }
   ],
   "source": [
    "v.real"
   ]
  },
  {
   "cell_type": "code",
   "execution_count": 26,
   "id": "b57de83c-e7f3-4958-b7d2-c77c7a591d8e",
   "metadata": {},
   "outputs": [
    {
     "data": {
      "text/plain": [
       "6.0"
      ]
     },
     "execution_count": 26,
     "metadata": {},
     "output_type": "execute_result"
    }
   ],
   "source": [
    "v.imag"
   ]
  },
  {
   "cell_type": "code",
   "execution_count": 27,
   "id": "adf52fd6-5cda-4cb6-8067-5db50b654f2e",
   "metadata": {},
   "outputs": [
    {
     "data": {
      "text/plain": [
       "(5+6j)"
      ]
     },
     "execution_count": 27,
     "metadata": {},
     "output_type": "execute_result"
    }
   ],
   "source": [
    "v"
   ]
  },
  {
   "cell_type": "code",
   "execution_count": 28,
   "id": "db59df6e-ff6e-4094-b326-08b12a35aaf2",
   "metadata": {},
   "outputs": [],
   "source": [
    "#INDEXING"
   ]
  },
  {
   "cell_type": "code",
   "execution_count": 29,
   "id": "d1cb686f-5a08-448b-81e6-ee39619394b7",
   "metadata": {},
   "outputs": [],
   "source": [
    "v=\"PWSKILLS\""
   ]
  },
  {
   "cell_type": "code",
   "execution_count": 31,
   "id": "887cffc2-53ca-4cd6-acc9-2546dd6055a2",
   "metadata": {},
   "outputs": [
    {
     "data": {
      "text/plain": [
       "'P'"
      ]
     },
     "execution_count": 31,
     "metadata": {},
     "output_type": "execute_result"
    }
   ],
   "source": [
    "v[0]"
   ]
  },
  {
   "cell_type": "code",
   "execution_count": 32,
   "id": "413aa0d7-704a-490e-8c07-b0ca56b140a6",
   "metadata": {},
   "outputs": [
    {
     "data": {
      "text/plain": [
       "'I'"
      ]
     },
     "execution_count": 32,
     "metadata": {},
     "output_type": "execute_result"
    }
   ],
   "source": [
    "v[4]"
   ]
  },
  {
   "cell_type": "code",
   "execution_count": 33,
   "id": "dc0b586f-fddc-458e-a55e-ebaac445a949",
   "metadata": {},
   "outputs": [
    {
     "data": {
      "text/plain": [
       "'K'"
      ]
     },
     "execution_count": 33,
     "metadata": {},
     "output_type": "execute_result"
    }
   ],
   "source": [
    "v[-5]"
   ]
  },
  {
   "cell_type": "code",
   "execution_count": 34,
   "id": "5407c26e-2a0d-44f2-ab27-c9444d523fdd",
   "metadata": {},
   "outputs": [],
   "source": [
    "#slicing"
   ]
  },
  {
   "cell_type": "code",
   "execution_count": 35,
   "id": "2439e27d-15a8-4fb7-95c2-de2c7db1531a",
   "metadata": {},
   "outputs": [
    {
     "data": {
      "text/plain": [
       "'PWSK'"
      ]
     },
     "execution_count": 35,
     "metadata": {},
     "output_type": "execute_result"
    }
   ],
   "source": [
    "v[0:4]"
   ]
  },
  {
   "cell_type": "code",
   "execution_count": 36,
   "id": "d692ac38-7579-4f4d-805c-5547f17fa334",
   "metadata": {},
   "outputs": [
    {
     "data": {
      "text/plain": [
       "'SKIL'"
      ]
     },
     "execution_count": 36,
     "metadata": {},
     "output_type": "execute_result"
    }
   ],
   "source": [
    "v[2:6]"
   ]
  },
  {
   "cell_type": "code",
   "execution_count": 39,
   "id": "1d57bd53-424a-4c02-888c-48a3a757a056",
   "metadata": {},
   "outputs": [
    {
     "data": {
      "text/plain": [
       "'PWSKILLS'"
      ]
     },
     "execution_count": 39,
     "metadata": {},
     "output_type": "execute_result"
    }
   ],
   "source": [
    "v[0:]"
   ]
  },
  {
   "cell_type": "code",
   "execution_count": 40,
   "id": "6d945e7b-c75c-42d5-8c00-bbd5febbbbd3",
   "metadata": {},
   "outputs": [
    {
     "data": {
      "text/plain": [
       "'PSIL'"
      ]
     },
     "execution_count": 40,
     "metadata": {},
     "output_type": "execute_result"
    }
   ],
   "source": [
    "v[0::2]"
   ]
  },
  {
   "cell_type": "code",
   "execution_count": 43,
   "id": "bef2e4db-3622-4878-90f1-de6be3624a8f",
   "metadata": {},
   "outputs": [
    {
     "data": {
      "text/plain": [
       "'PSIL'"
      ]
     },
     "execution_count": 43,
     "metadata": {},
     "output_type": "execute_result"
    }
   ],
   "source": [
    "v[::2]"
   ]
  },
  {
   "cell_type": "code",
   "execution_count": 45,
   "id": "1698e809-add2-4542-8f43-8cbfce5eff6d",
   "metadata": {},
   "outputs": [
    {
     "data": {
      "text/plain": [
       "''"
      ]
     },
     "execution_count": 45,
     "metadata": {},
     "output_type": "execute_result"
    }
   ],
   "source": [
    "v[-1:0]"
   ]
  },
  {
   "cell_type": "code",
   "execution_count": 47,
   "id": "f822fbc5-142a-4e3c-b202-d1bc2c95143f",
   "metadata": {},
   "outputs": [],
   "source": [
    "V=\"PWSKILLS\""
   ]
  },
  {
   "cell_type": "code",
   "execution_count": 48,
   "id": "2391fbb2-a9d3-4ccf-b41c-890522c9980e",
   "metadata": {},
   "outputs": [
    {
     "data": {
      "text/plain": [
       "'SLLIKSWP'"
      ]
     },
     "execution_count": 48,
     "metadata": {},
     "output_type": "execute_result"
    }
   ],
   "source": [
    "V[::-1]"
   ]
  },
  {
   "cell_type": "code",
   "execution_count": 49,
   "id": "1f07bb0b-8c8c-4e17-b3c4-1208ff119f01",
   "metadata": {},
   "outputs": [
    {
     "data": {
      "text/plain": [
       "''"
      ]
     },
     "execution_count": 49,
     "metadata": {},
     "output_type": "execute_result"
    }
   ],
   "source": [
    "V[2:7:-1]"
   ]
  },
  {
   "cell_type": "code",
   "execution_count": 50,
   "id": "26409dd2-b38f-4919-91f2-2b1a859d9d41",
   "metadata": {},
   "outputs": [
    {
     "data": {
      "text/plain": [
       "'SKILL'"
      ]
     },
     "execution_count": 50,
     "metadata": {},
     "output_type": "execute_result"
    }
   ],
   "source": [
    "v[2:7:1]"
   ]
  },
  {
   "cell_type": "code",
   "execution_count": 51,
   "id": "302a17ac-d379-48d8-85d4-95e493c7f032",
   "metadata": {},
   "outputs": [
    {
     "data": {
      "text/plain": [
       "''"
      ]
     },
     "execution_count": 51,
     "metadata": {},
     "output_type": "execute_result"
    }
   ],
   "source": [
    "V[8:0]"
   ]
  },
  {
   "cell_type": "code",
   "execution_count": 52,
   "id": "4b65ee30-5d55-4fe8-ac56-f3522cd409ef",
   "metadata": {},
   "outputs": [
    {
     "data": {
      "text/plain": [
       "'SLLIKSW'"
      ]
     },
     "execution_count": 52,
     "metadata": {},
     "output_type": "execute_result"
    }
   ],
   "source": [
    "V[8:0:-1]"
   ]
  },
  {
   "cell_type": "code",
   "execution_count": 53,
   "id": "eb34d931-8db4-43c3-869d-74937031733a",
   "metadata": {},
   "outputs": [
    {
     "data": {
      "text/plain": [
       "''"
      ]
     },
     "execution_count": 53,
     "metadata": {},
     "output_type": "execute_result"
    }
   ],
   "source": [
    "V[-2:-8:1]"
   ]
  },
  {
   "cell_type": "code",
   "execution_count": 54,
   "id": "8bf35a69-a2be-44cc-ab45-0a61609ae17d",
   "metadata": {},
   "outputs": [
    {
     "data": {
      "text/plain": [
       "'LLIKSW'"
      ]
     },
     "execution_count": 54,
     "metadata": {},
     "output_type": "execute_result"
    }
   ],
   "source": [
    "V[-2:-8:-1]"
   ]
  },
  {
   "cell_type": "code",
   "execution_count": 55,
   "id": "cecb8974-a5b9-4aa6-88a0-c75474e5266c",
   "metadata": {},
   "outputs": [
    {
     "data": {
      "text/plain": [
       "'SLKW'"
      ]
     },
     "execution_count": 55,
     "metadata": {},
     "output_type": "execute_result"
    }
   ],
   "source": [
    "v[-1::-2]"
   ]
  },
  {
   "cell_type": "code",
   "execution_count": 57,
   "id": "a0d0d5c7-274b-47d6-8dc0-f6a2c1437aa6",
   "metadata": {},
   "outputs": [],
   "source": [
    "C='200'"
   ]
  },
  {
   "cell_type": "code",
   "execution_count": 58,
   "id": "7b146b0f-5f29-4ca0-8810-7e2f6db964f4",
   "metadata": {},
   "outputs": [
    {
     "data": {
      "text/plain": [
       "'2'"
      ]
     },
     "execution_count": 58,
     "metadata": {},
     "output_type": "execute_result"
    }
   ],
   "source": [
    "C[0]"
   ]
  },
  {
   "cell_type": "code",
   "execution_count": 59,
   "id": "b5475a8a-c811-406f-9e1f-08fb4a4a18bd",
   "metadata": {},
   "outputs": [],
   "source": [
    "n=\"this is y first string\""
   ]
  },
  {
   "cell_type": "code",
   "execution_count": 61,
   "id": "97ca7340-7921-4154-8ea6-b14a431cf68a",
   "metadata": {},
   "outputs": [
    {
     "data": {
      "text/plain": [
       "22"
      ]
     },
     "execution_count": 61,
     "metadata": {},
     "output_type": "execute_result"
    }
   ],
   "source": [
    "len(n)"
   ]
  },
  {
   "cell_type": "code",
   "execution_count": 62,
   "id": "190c3169-aa14-4be0-984d-30f305b821b6",
   "metadata": {},
   "outputs": [
    {
     "data": {
      "text/plain": [
       "8"
      ]
     },
     "execution_count": 62,
     "metadata": {},
     "output_type": "execute_result"
    }
   ],
   "source": [
    "n.find('y')"
   ]
  },
  {
   "cell_type": "code",
   "execution_count": 63,
   "id": "d1d386a4-2ede-42f3-8f90-eb96df71d275",
   "metadata": {},
   "outputs": [
    {
     "data": {
      "text/plain": [
       "10"
      ]
     },
     "execution_count": 63,
     "metadata": {},
     "output_type": "execute_result"
    }
   ],
   "source": [
    "n.find('fi')"
   ]
  },
  {
   "cell_type": "code",
   "execution_count": 64,
   "id": "0b9cedac-7c53-470b-bfdf-1469e7bbba6d",
   "metadata": {},
   "outputs": [],
   "source": [
    "# list of function see with the help of .tab"
   ]
  },
  {
   "cell_type": "code",
   "execution_count": null,
   "id": "65cdf292-018c-4a41-8d27-3b3e0cd79264",
   "metadata": {},
   "outputs": [],
   "source": [
    "n=\"this is y first string\""
   ]
  },
  {
   "cell_type": "code",
   "execution_count": null,
   "id": "471c82fb-051e-4518-83b0-43bab10f5382",
   "metadata": {},
   "outputs": [],
   "source": [
    "n.count('s')"
   ]
  },
  {
   "cell_type": "code",
   "execution_count": 69,
   "id": "61e9db97-0ade-4087-9205-f2b7c328dc3d",
   "metadata": {},
   "outputs": [
    {
     "data": {
      "text/plain": [
       "'THIS IS Y FIRST STRING'"
      ]
     },
     "execution_count": 69,
     "metadata": {},
     "output_type": "execute_result"
    }
   ],
   "source": [
    "n.upper( )"
   ]
  },
  {
   "cell_type": "code",
   "execution_count": 71,
   "id": "3e7ebaea-d6bb-43cf-81a7-520bf9f46793",
   "metadata": {},
   "outputs": [
    {
     "data": {
      "text/plain": [
       "'This Is Y First String'"
      ]
     },
     "execution_count": 71,
     "metadata": {},
     "output_type": "execute_result"
    }
   ],
   "source": [
    "n.title()\n",
    "\n"
   ]
  },
  {
   "cell_type": "code",
   "execution_count": 79,
   "id": "5cb04e9d-c48d-4b5e-bd6c-960ecce24237",
   "metadata": {},
   "outputs": [
    {
     "data": {
      "text/plain": [
       "'This is y first string'"
      ]
     },
     "execution_count": 79,
     "metadata": {},
     "output_type": "execute_result"
    }
   ],
   "source": [
    "n.capitalize()"
   ]
  },
  {
   "cell_type": "code",
   "execution_count": 1,
   "id": "bbea64ff-406e-4204-86f7-c52517929dde",
   "metadata": {},
   "outputs": [],
   "source": [
    "n=\"this is y first string\""
   ]
  },
  {
   "cell_type": "code",
   "execution_count": 3,
   "id": "ad2911f2-be48-455d-9168-5f66f9414d0e",
   "metadata": {},
   "outputs": [
    {
     "data": {
      "text/plain": [
       "'nr'"
      ]
     },
     "execution_count": 3,
     "metadata": {},
     "output_type": "execute_result"
    }
   ],
   "source": [
    "n[-2:-6:-2]"
   ]
  },
  {
   "cell_type": "code",
   "execution_count": 4,
   "id": "ecc18084-bfd5-4470-9bf2-c4a626b411ca",
   "metadata": {},
   "outputs": [
    {
     "data": {
      "text/plain": [
       "8"
      ]
     },
     "execution_count": 4,
     "metadata": {},
     "output_type": "execute_result"
    }
   ],
   "source": [
    "n.find(\"y\")"
   ]
  },
  {
   "cell_type": "code",
   "execution_count": 5,
   "id": "e2e74a38-7655-4555-88e2-42b5f0b537d0",
   "metadata": {},
   "outputs": [
    {
     "data": {
      "text/plain": [
       "4"
      ]
     },
     "execution_count": 5,
     "metadata": {},
     "output_type": "execute_result"
    }
   ],
   "source": [
    "n.count('i')"
   ]
  },
  {
   "cell_type": "code",
   "execution_count": 12,
   "id": "19d23f5f-1813-40ad-9a5e-2ce7220b96c0",
   "metadata": {},
   "outputs": [],
   "source": [
    "s=\"PW SKILLS \""
   ]
  },
  {
   "cell_type": "code",
   "execution_count": 13,
   "id": "d9104aa4-b265-43c7-b667-dfee5ceeb383",
   "metadata": {},
   "outputs": [
    {
     "ename": "TypeError",
     "evalue": "can only concatenate str (not \"int\") to str",
     "output_type": "error",
     "traceback": [
      "\u001b[0;31m---------------------------------------------------------------------------\u001b[0m",
      "\u001b[0;31mTypeError\u001b[0m                                 Traceback (most recent call last)",
      "Cell \u001b[0;32mIn[13], line 1\u001b[0m\n\u001b[0;32m----> 1\u001b[0m \u001b[43ms\u001b[49m\u001b[38;5;241;43m+\u001b[39;49m\u001b[38;5;241;43m1\u001b[39;49m\n",
      "\u001b[0;31mTypeError\u001b[0m: can only concatenate str (not \"int\") to str"
     ]
    }
   ],
   "source": [
    "s+1"
   ]
  },
  {
   "cell_type": "code",
   "execution_count": 14,
   "id": "47d08944-82fb-499e-8ee4-1737298aa0c4",
   "metadata": {},
   "outputs": [
    {
     "data": {
      "text/plain": [
       "'PW SKILLS 1'"
      ]
     },
     "execution_count": 14,
     "metadata": {},
     "output_type": "execute_result"
    }
   ],
   "source": [
    "s+ str(1)"
   ]
  },
  {
   "cell_type": "code",
   "execution_count": 15,
   "id": "995f89fb-7d69-4b1b-bbcf-f154b87d9731",
   "metadata": {},
   "outputs": [
    {
     "data": {
      "text/plain": [
       "'PW SKILLS PW SKILLS PW SKILLS PW SKILLS PW SKILLS '"
      ]
     },
     "execution_count": 15,
     "metadata": {},
     "output_type": "execute_result"
    }
   ],
   "source": [
    "s*5"
   ]
  },
  {
   "cell_type": "code",
   "execution_count": 16,
   "id": "31de3129-a1d7-488f-a9cb-cebc8a6d5c42",
   "metadata": {},
   "outputs": [
    {
     "data": {
      "text/plain": [
       "\"don't do copy and paste in my class\""
      ]
     },
     "execution_count": 16,
     "metadata": {},
     "output_type": "execute_result"
    }
   ],
   "source": [
    "\"don't do copy and paste in my class\""
   ]
  },
  {
   "cell_type": "code",
   "execution_count": 17,
   "id": "7e8cdcc7-ce31-4fe7-9762-7c11252906a5",
   "metadata": {},
   "outputs": [
    {
     "data": {
      "text/plain": [
       "'PW SKILLS '"
      ]
     },
     "execution_count": 17,
     "metadata": {},
     "output_type": "execute_result"
    }
   ],
   "source": [
    "s"
   ]
  },
  {
   "cell_type": "code",
   "execution_count": 22,
   "id": "6bf8871a-ccf2-4f4d-b038-6f594e894dbb",
   "metadata": {},
   "outputs": [
    {
     "data": {
      "text/plain": [
       "'PW SKILLS PW SKILLS PW SKILLS PW SKILLS '"
      ]
     },
     "execution_count": 22,
     "metadata": {},
     "output_type": "execute_result"
    }
   ],
   "source": [
    "s*4"
   ]
  },
  {
   "cell_type": "code",
   "execution_count": null,
   "id": "10707e07-b40b-4309-b354-869f81b355df",
   "metadata": {},
   "outputs": [],
   "source": []
  }
 ],
 "metadata": {
  "kernelspec": {
   "display_name": "Python 3 (ipykernel)",
   "language": "python",
   "name": "python3"
  },
  "language_info": {
   "codemirror_mode": {
    "name": "ipython",
    "version": 3
   },
   "file_extension": ".py",
   "mimetype": "text/x-python",
   "name": "python",
   "nbconvert_exporter": "python",
   "pygments_lexer": "ipython3",
   "version": "3.10.8"
  }
 },
 "nbformat": 4,
 "nbformat_minor": 5
}
